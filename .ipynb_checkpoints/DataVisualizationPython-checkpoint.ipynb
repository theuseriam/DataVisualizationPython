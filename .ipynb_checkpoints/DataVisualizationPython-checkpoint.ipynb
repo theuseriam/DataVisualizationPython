{
 "cells": [
  {
   "cell_type": "markdown",
   "id": "de46ef7d",
   "metadata": {},
   "source": [
    "## A step-by-step guide to Data Visualizations in Python\n",
    "\n",
    "Follow along with [this article](https://medium.com/codex/step-by-step-guide-to-data-visualizations-in-python-b322129a1540).  We will be using [this .xlsx dataset](https://www.kaggle.com/roshansharma/immigration-to-canada-ibm-dataset) from Kaggle on Immigration to Canada from 1980–2013. No need to dowload it, it is already in the git repositroy you forked.<br>\n",
    "\n",
    "#### We suggest that instead of copy and pasting the code, you type it out.  This will help you become more familiar with the syntex and better understand it.\n"
   ]
  },
  {
   "cell_type": "markdown",
   "id": "36f3869c",
   "metadata": {},
   "source": [
    "### Step-1: Importing Packages"
   ]
  },
  {
   "cell_type": "code",
   "execution_count": 1,
   "id": "cad80a84",
   "metadata": {},
   "outputs": [],
   "source": [
    "#import all librarys and modules needed\n",
    "import pandas as pd\n",
    "import numpy as np\n",
    "import seaborn as sb\n",
    "import matplotlib.pyplot as plt\n",
    "from matplotlib import style\n",
    "\n",
    "#setting style for graphs\n",
    "\n",
    "style.use('ggplot')\n",
    "plt.rcParams['figure.figsize'] = (20,10)\n"
   ]
  },
  {
   "cell_type": "markdown",
   "id": "9e475669",
   "metadata": {},
   "source": [
    "### Step-2 : Importing and Cleaning Data "
   ]
  },
  {
   "cell_type": "code",
   "execution_count": 2,
   "id": "725a3f37",
   "metadata": {},
   "outputs": [],
   "source": [
    "#import and clean data, remember path is data/Canada.xlsx\n",
    "df = pd.read_excel('Canada.xlsx' ,1, skiprows = range(20), skipfooter = 2)\n",
    "df.rename(columns = {'OdName': 'country', 'AreaName': 'continent', 'RegName' : 'region'}, inplace = True)\n",
    "df['total'] = df.sum(axis = 1)\n",
    "df = df.set_index('country')\n",
    "df.rename(index = {'United Kingdom of Great Britain and Northern Ireland' 'UK & Ireland'}, inplace = True)\n",
    "df.columns = df.columns.astype(str)\n",
    "\n",
    "#Useful for upcoming visualizations\n",
    "\n",
    "years = list(map(str, range(1980,2013)))"
   ]
  },
  {
   "cell_type": "markdown",
   "id": "517c0bf9",
   "metadata": {},
   "source": [
    "### Step-3 : Creating Beautiful Visualizations\n",
    "\n",
    "#### Line Chart"
   ]
  },
  {
   "cell_type": "code",
   "execution_count": 1,
   "id": "24e86697",
   "metadata": {},
   "outputs": [],
   "source": [
    "# Single line chart\n",
    "fig1 = df.loc['Haiti', years].plot(kind = 'line', color = 'r')\n",
    "plt.title('Immigration from Haiti to Canada from 1980-2013', color = 'black')\n",
    "plt.xlabel('Years', color = 'black')\n",
    "plt.ylabel('Number of Immigrants', color = 'black')\n",
    "plt.xticks(color = 'black')\n",
    "plt.yticks(color = 'black')\n",
    "plt.savefig('linechart_single.png')\n",
    "\n",
    "plt.show()\n"
   ]
  },
  {
   "cell_type": "code",
   "execution_count": 2,
   "id": "fed6d30a",
   "metadata": {},
   "outputs": [],
   "source": [
    "# Multiple Line chart \n",
    "fig2 = plt.plot(df.loc['India', years], label = 'India')\n",
    "plt.plot(df.loc['China', years],  label = 'China')\n",
    "plt.plot(df.loc['Philippines', years], label = 'Sri Lanka')\n",
    "plt.legend(loc = 'upper left', fontsize = 12)\n",
    "plt.xticks(rotation = 90, color = 'black')\n",
    "plt.yticks(color = 'black')\n",
    "plt.title('Immigration to Canada from 1980-2013', color = 'black')\n",
    "plt.xlabel('Year' ,color = 'black')\n",
    "plt.ylabel('Number of Immigrants' ,color = 'black')\n",
    "plt.savefig('linechart_multiple.png')\n",
    "\n",
    "plt.show()"
   ]
  },
  {
   "cell_type": "markdown",
   "id": "966ec2fb",
   "metadata": {},
   "source": [
    "#### Lets talk about style   "
   ]
  },
  {
   "cell_type": "code",
   "execution_count": 3,
   "id": "5fc473cf",
   "metadata": {},
   "outputs": [],
   "source": [
    "#Shows all avaiable built-in styles\n",
    "print(plt.style.available)"
   ]
  },
  {
   "cell_type": "markdown",
   "id": "28feffa4",
   "metadata": {},
   "source": [
    "To see a visualization of the aviable style sheets [click here](https://matplotlib.org/stable/gallery/style_sheets/style_sheets_reference.html). \n",
    "\n",
    "Syntex to select a specific style is: plt.style.use('style_name') \n",
    "\n",
    "Try it out by adding the line of code to the top of the code block above and choose one of the preinstalled styles. Which style is your favorite?<br><br>\n",
    "\n",
    "What happens when you change the line- plt.legend(loc = 'upper left', fontsize = 12) to plt.legend(loc = 'lower right', fontsize = 12)? <br><br><br><br>\n",
    "\n",
    "\n",
    "\n",
    "Experiment changing other lines of the code and see how the graph changes. Add any notes or observations here. Going forward feel free to experiment with each graph type<br><br><br><br><br><br>"
   ]
  },
  {
   "cell_type": "markdown",
   "id": "d9153254",
   "metadata": {},
   "source": [
    "#### Install mplcyberpunk\n",
    "Open a terminal window and at at the prompt type:\n",
    "\n",
    "python -V\n",
    "\n",
    "If its python 3.something, copy and paste: pip install mplcyberpunk\n",
    "If its python 2.something, copy and paste: pip3 install mplcyberpunk\n",
    "\n",
    "\n",
    "For more info on mplcyberpunk click [here.](https://github.com/dhaitz/mplcyberpunk)"
   ]
  },
  {
   "cell_type": "code",
   "execution_count": 4,
   "id": "d6532a85",
   "metadata": {},
   "outputs": [],
   "source": [
    "# Cyberpunk Multiple Line Chart\n",
    "\n"
   ]
  },
  {
   "cell_type": "markdown",
   "id": "01dbbde2",
   "metadata": {},
   "source": [
    "#### Bar Chart"
   ]
  },
  {
   "cell_type": "code",
   "execution_count": 5,
   "id": "f3930bde",
   "metadata": {},
   "outputs": [],
   "source": [
    "# Vertical bar chart\n",
    "# Do not change the style back to ggplot \n",
    "# delete the style.use('ggplot') line of code\n",
    "\n"
   ]
  },
  {
   "cell_type": "markdown",
   "id": "ee20b2db",
   "metadata": {},
   "source": [
    "Notice that style is still set to cyberpunk.  How do we fix it so we can see the labels?<br> <br>\n",
    "\n",
    "Answer: change the color = 'black' to 'white'\n",
    "\n",
    "Feel free to experiment and add any notes or observations here. <br><br><br><br><br>"
   ]
  },
  {
   "cell_type": "code",
   "execution_count": 7,
   "id": "8c76e7b3",
   "metadata": {},
   "outputs": [],
   "source": [
    "# Horizontal bar chart\n",
    "#change style back to ggplt\n"
   ]
  },
  {
   "cell_type": "markdown",
   "id": "7fcf08a3",
   "metadata": {},
   "source": [
    "Feel free to experiment and add any notes or observations here. <br><br><br><br><br>"
   ]
  },
  {
   "cell_type": "code",
   "execution_count": 8,
   "id": "64b65871",
   "metadata": {},
   "outputs": [],
   "source": [
    "# Grouped bar chart\n"
   ]
  },
  {
   "cell_type": "markdown",
   "id": "f4c40b4e",
   "metadata": {},
   "source": [
    "Notice how the labels in the legend have disapeared?  We can fix this by adding labelcolor='k' to plt.legend<br>\n",
    "<br>plt.legend(title = 'Country', fontsize = 12, labelcolor='black')\n",
    "\n"
   ]
  },
  {
   "cell_type": "markdown",
   "id": "c1fe51d0",
   "metadata": {},
   "source": [
    "Feel free to experiment and add any notes or observations here. <br><br><br><br><br>"
   ]
  },
  {
   "cell_type": "markdown",
   "id": "19f08118",
   "metadata": {},
   "source": [
    "#### Area Chart"
   ]
  },
  {
   "cell_type": "code",
   "execution_count": 9,
   "id": "509687c7",
   "metadata": {},
   "outputs": [],
   "source": [
    "# Area Chart\n"
   ]
  },
  {
   "cell_type": "markdown",
   "id": "4d408e89",
   "metadata": {},
   "source": [
    "Feel free to experiment and add any notes or observations here. <br><br><br><br><br>"
   ]
  },
  {
   "cell_type": "code",
   "execution_count": 10,
   "id": "7989e6ac",
   "metadata": {},
   "outputs": [],
   "source": [
    "# cyberpunk simple area chart\n"
   ]
  },
  {
   "cell_type": "markdown",
   "id": "420631dd",
   "metadata": {},
   "source": [
    "Feel free to experiment and add any notes or observations here. <br><br><br><br><br>"
   ]
  },
  {
   "cell_type": "code",
   "execution_count": 11,
   "id": "9bc1454c",
   "metadata": {},
   "outputs": [],
   "source": [
    "# stacked area chart\n"
   ]
  },
  {
   "cell_type": "markdown",
   "id": "503f68a3",
   "metadata": {},
   "source": [
    "Feel free to experiment and add any notes or observations here. <br><br><br><br><br>"
   ]
  },
  {
   "cell_type": "code",
   "execution_count": 12,
   "id": "c0dd9e02",
   "metadata": {},
   "outputs": [],
   "source": [
    "# unstacked area chart\n"
   ]
  },
  {
   "cell_type": "markdown",
   "id": "35834e39",
   "metadata": {},
   "source": [
    "Feel free to experiment and add any notes or observations here. <br><br><br><br><br>"
   ]
  },
  {
   "cell_type": "markdown",
   "id": "3d866890",
   "metadata": {},
   "source": [
    "#### Box Plot"
   ]
  },
  {
   "cell_type": "code",
   "execution_count": 13,
   "id": "43991b65",
   "metadata": {},
   "outputs": [],
   "source": [
    "# Vertical Box Plot\n"
   ]
  },
  {
   "cell_type": "markdown",
   "id": "947dc4d8",
   "metadata": {},
   "source": [
    "Feel free to experiment and add any notes or observations here. <br><br><br><br><br>"
   ]
  },
  {
   "cell_type": "code",
   "execution_count": 14,
   "id": "e1b2f85d",
   "metadata": {},
   "outputs": [],
   "source": [
    "# horizontal box plot\n"
   ]
  },
  {
   "cell_type": "markdown",
   "id": "cfdd9f82",
   "metadata": {},
   "source": [
    "Feel free to experiment and add any notes or observations here. <br><br><br><br><br>"
   ]
  },
  {
   "cell_type": "markdown",
   "id": "b479350f",
   "metadata": {},
   "source": [
    "#### Scatter Plot\n",
    "\n",
    "With the newist version of Seaborn we have to specify x and y.\n",
    "\n",
    "example: sb.scatterplot(x = 'sepal_length', y = 'sepal_width', data = df_iris)"
   ]
  },
  {
   "cell_type": "code",
   "execution_count": 15,
   "id": "43dbcd4f",
   "metadata": {},
   "outputs": [],
   "source": [
    "#scatter plot comparing sepal length to sepal width\n"
   ]
  },
  {
   "cell_type": "markdown",
   "id": "4e6d47b5",
   "metadata": {},
   "source": [
    "Feel free to experiment and add any notes or observations here. <br><br><br><br><br>"
   ]
  },
  {
   "cell_type": "markdown",
   "id": "1277af5c",
   "metadata": {},
   "source": [
    "#### Histogram\n",
    "\n",
    "With the newist version of Seaborn they have deprecated distplot. Replace distplot with histplot and add kde = True\n",
    "\n",
    "example:\n",
    "sb.histplot(df_iris['sepal_length'], color = 'Red', label = 'Sepal Length', kde = True)"
   ]
  },
  {
   "cell_type": "code",
   "execution_count": 16,
   "id": "d0ac74c1",
   "metadata": {},
   "outputs": [],
   "source": [
    "#Histogram side by side, with kde\n"
   ]
  },
  {
   "cell_type": "markdown",
   "id": "0eb4855a",
   "metadata": {},
   "source": [
    "Feel free to experiment and add any notes or observations here. <br><br><br><br><br>"
   ]
  },
  {
   "cell_type": "markdown",
   "id": "71cdde5b",
   "metadata": {},
   "source": [
    "#### Bubble Plot"
   ]
  },
  {
   "cell_type": "code",
   "execution_count": 17,
   "id": "d6544f40",
   "metadata": {},
   "outputs": [],
   "source": [
    "# Bubble Plot\n"
   ]
  },
  {
   "cell_type": "markdown",
   "id": "9e3dde2c",
   "metadata": {},
   "source": [
    "Feel free to experiment and add any notes or observations here. <br><br><br><br><br>"
   ]
  },
  {
   "cell_type": "markdown",
   "id": "6809d6ad",
   "metadata": {},
   "source": [
    "#### Pie Chart\n",
    "\n",
    "Skip this one as the code throws an error. "
   ]
  },
  {
   "cell_type": "markdown",
   "id": "17ca2784",
   "metadata": {},
   "source": [
    "df_pie = pd.DataFrame(df.groupby('continent')['total'].sum().T)\n",
    "colors = ['gold', 'yellowgreen', 'lightcoral', 'lightskyblue', 'lightgreen', 'pink']\n",
    "explode = [0,0.1,0,0,0.1,0.1]\n",
    "\n",
    "plt.pie(df_pie, colors = colors, autopct = '%1.1f%%', startangle = 90, explode = explode, pctdistance = 1.12, shadow = True)\n",
    "plt.title('Continent-Wise Immigrants Distribution', color = 'black', y = 1.1, fontsize = 18)\n",
    "plt.legend(df_pie.index, loc = 'upper left', fontsize = 12)\n",
    "plt.axis('equal')\n",
    "plt.savefig('pie.png')\n",
    "\n",
    "plt.show()"
   ]
  },
  {
   "cell_type": "markdown",
   "id": "c2dd3923",
   "metadata": {},
   "source": [
    "#### Doughnut Chart"
   ]
  },
  {
   "cell_type": "code",
   "execution_count": 18,
   "id": "e1ed45a2",
   "metadata": {},
   "outputs": [],
   "source": [
    "# Doughnut Chart\n"
   ]
  },
  {
   "cell_type": "markdown",
   "id": "9fdda71d",
   "metadata": {},
   "source": [
    "Feel free to experiment and add any notes or observations here. <br><br><br><br><br>"
   ]
  },
  {
   "cell_type": "markdown",
   "id": "dba1dc8e",
   "metadata": {},
   "source": [
    "#### Regression Plot"
   ]
  },
  {
   "cell_type": "code",
   "execution_count": 19,
   "id": "bc5f6f24",
   "metadata": {},
   "outputs": [],
   "source": [
    "# Strong trend\n"
   ]
  },
  {
   "cell_type": "markdown",
   "id": "66c55013",
   "metadata": {},
   "source": [
    "Feel free to experiment and add any notes or observations here. <br><br><br><br><br>"
   ]
  },
  {
   "cell_type": "code",
   "execution_count": 20,
   "id": "0aeed0b5",
   "metadata": {},
   "outputs": [],
   "source": [
    "# Weak trend\n"
   ]
  },
  {
   "cell_type": "markdown",
   "id": "88bca541",
   "metadata": {},
   "source": [
    "Feel free to experiment and add any notes or observations here. <br><br><br><br><br>"
   ]
  },
  {
   "cell_type": "markdown",
   "id": "6646021e",
   "metadata": {},
   "source": [
    "#### Word Cloud\n",
    "\n",
    "You might need to pip install wordcloud and pip install Pywaffle.  Follow the instruction from when you installed cyperpunk earlier.\n",
    "\n",
    "Make sure to add the txt files from [here](https://github.com/codinglikeagirl42/DataVisualizationPython) to your data folder and remember the path is data/filename.txt. Try creating your own txt file to visualize."
   ]
  },
  {
   "cell_type": "code",
   "execution_count": 21,
   "id": "4d96e72c",
   "metadata": {},
   "outputs": [],
   "source": [
    "# word cloud\n",
    "from wordcloud import WordCloud, STOPWORDS\n"
   ]
  },
  {
   "cell_type": "markdown",
   "id": "0b7cf536",
   "metadata": {},
   "source": [
    "Feel free to experiment and add any notes or observations here. <br><br><br><br><br>"
   ]
  },
  {
   "cell_type": "markdown",
   "id": "db66a359",
   "metadata": {},
   "source": [
    "#### Lollipop Chart"
   ]
  },
  {
   "cell_type": "code",
   "execution_count": 22,
   "id": "073f2112",
   "metadata": {},
   "outputs": [],
   "source": [
    "# Lollipop chart\n"
   ]
  },
  {
   "cell_type": "markdown",
   "id": "32843553",
   "metadata": {},
   "source": [
    "Feel free to experiment and add any notes or observations here. <br><br><br><br><br>"
   ]
  },
  {
   "cell_type": "code",
   "execution_count": null,
   "id": "d01fb5e5",
   "metadata": {},
   "outputs": [],
   "source": []
  }
 ],
 "metadata": {
  "kernelspec": {
   "display_name": "Python 3",
   "language": "python",
   "name": "python3"
  },
  "language_info": {
   "codemirror_mode": {
    "name": "ipython",
    "version": 3
   },
   "file_extension": ".py",
   "mimetype": "text/x-python",
   "name": "python",
   "nbconvert_exporter": "python",
   "pygments_lexer": "ipython3",
   "version": "3.8.8"
  }
 },
 "nbformat": 4,
 "nbformat_minor": 5
}
